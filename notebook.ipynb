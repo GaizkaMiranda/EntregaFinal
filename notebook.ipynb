{
 "cells": [
  {
   "cell_type": "code",
   "execution_count": 46,
   "id": "534e0cc4",
   "metadata": {},
   "outputs": [],
   "source": [
    "# Limpieza de datos de pacientes\n",
    "import os\n",
    "import pandas as pd"
   ]
  },
  {
   "cell_type": "markdown",
   "id": "7808f08e",
   "metadata": {},
   "source": [
    "## 1. Configuración de rutas"
   ]
  },
  {
   "cell_type": "code",
   "execution_count": 47,
   "id": "1799e6e6",
   "metadata": {},
   "outputs": [],
   "source": [
    "# Configuración de rutas\n",
    "DATA_DIR = \"data\"  # sin barra al inicio\n",
    "CSV_FILE = os.path.join(DATA_DIR, \"datos_salud.csv\")"
   ]
  },
  {
   "cell_type": "markdown",
   "id": "594eff0c",
   "metadata": {},
   "source": [
    "## 2. Carga de datos"
   ]
  },
  {
   "cell_type": "code",
   "execution_count": 48,
   "id": "d8af7943",
   "metadata": {},
   "outputs": [],
   "source": [
    "# Cargar el CSV\n",
    "df = pd.read_csv(CSV_FILE)"
   ]
  },
  {
   "cell_type": "code",
   "execution_count": 49,
   "id": "da7101f4",
   "metadata": {},
   "outputs": [
    {
     "data": {
      "text/html": [
       "<div>\n",
       "<style scoped>\n",
       "    .dataframe tbody tr th:only-of-type {\n",
       "        vertical-align: middle;\n",
       "    }\n",
       "\n",
       "    .dataframe tbody tr th {\n",
       "        vertical-align: top;\n",
       "    }\n",
       "\n",
       "    .dataframe thead th {\n",
       "        text-align: right;\n",
       "    }\n",
       "</style>\n",
       "<table border=\"1\" class=\"dataframe\">\n",
       "  <thead>\n",
       "    <tr style=\"text-align: right;\">\n",
       "      <th></th>\n",
       "      <th>paciente_id</th>\n",
       "      <th>timestamp</th>\n",
       "      <th>ritmo_cardiaco</th>\n",
       "      <th>spo2</th>\n",
       "      <th>temperatura</th>\n",
       "      <th>frecuencia_respiratoria</th>\n",
       "      <th>presion_sistolica</th>\n",
       "      <th>presion_diastolica</th>\n",
       "      <th>actividad</th>\n",
       "      <th>pasos</th>\n",
       "      <th>estado_animo</th>\n",
       "    </tr>\n",
       "  </thead>\n",
       "  <tbody>\n",
       "    <tr>\n",
       "      <th>0</th>\n",
       "      <td>1</td>\n",
       "      <td>2025-05-27T14:16:29.012514</td>\n",
       "      <td>71</td>\n",
       "      <td>95.8</td>\n",
       "      <td>36.2</td>\n",
       "      <td>12</td>\n",
       "      <td>114</td>\n",
       "      <td>70</td>\n",
       "      <td>moderado</td>\n",
       "      <td>106</td>\n",
       "      <td>feliz</td>\n",
       "    </tr>\n",
       "    <tr>\n",
       "      <th>1</th>\n",
       "      <td>2</td>\n",
       "      <td>2025-05-27T14:16:29.020687</td>\n",
       "      <td>100</td>\n",
       "      <td>96.3</td>\n",
       "      <td>36.2</td>\n",
       "      <td>20</td>\n",
       "      <td>120</td>\n",
       "      <td>73</td>\n",
       "      <td>intenso</td>\n",
       "      <td>117</td>\n",
       "      <td>feliz</td>\n",
       "    </tr>\n",
       "    <tr>\n",
       "      <th>2</th>\n",
       "      <td>3</td>\n",
       "      <td>2025-05-27T14:16:29.029203</td>\n",
       "      <td>90</td>\n",
       "      <td>96.0</td>\n",
       "      <td>37.3</td>\n",
       "      <td>15</td>\n",
       "      <td>121</td>\n",
       "      <td>66</td>\n",
       "      <td>intenso</td>\n",
       "      <td>50</td>\n",
       "      <td>feliz</td>\n",
       "    </tr>\n",
       "    <tr>\n",
       "      <th>3</th>\n",
       "      <td>4</td>\n",
       "      <td>2025-05-27T14:16:29.037006</td>\n",
       "      <td>75</td>\n",
       "      <td>96.5</td>\n",
       "      <td>37.4</td>\n",
       "      <td>19</td>\n",
       "      <td>115</td>\n",
       "      <td>68</td>\n",
       "      <td>reposo</td>\n",
       "      <td>195</td>\n",
       "      <td>feliz</td>\n",
       "    </tr>\n",
       "    <tr>\n",
       "      <th>4</th>\n",
       "      <td>5</td>\n",
       "      <td>2025-05-27T14:16:29.043889</td>\n",
       "      <td>93</td>\n",
       "      <td>99.1</td>\n",
       "      <td>37.2</td>\n",
       "      <td>14</td>\n",
       "      <td>107</td>\n",
       "      <td>75</td>\n",
       "      <td>reposo</td>\n",
       "      <td>109</td>\n",
       "      <td>cansado</td>\n",
       "    </tr>\n",
       "  </tbody>\n",
       "</table>\n",
       "</div>"
      ],
      "text/plain": [
       "   paciente_id                   timestamp  ritmo_cardiaco  spo2  temperatura  \\\n",
       "0            1  2025-05-27T14:16:29.012514              71  95.8         36.2   \n",
       "1            2  2025-05-27T14:16:29.020687             100  96.3         36.2   \n",
       "2            3  2025-05-27T14:16:29.029203              90  96.0         37.3   \n",
       "3            4  2025-05-27T14:16:29.037006              75  96.5         37.4   \n",
       "4            5  2025-05-27T14:16:29.043889              93  99.1         37.2   \n",
       "\n",
       "   frecuencia_respiratoria  presion_sistolica  presion_diastolica actividad  \\\n",
       "0                       12                114                  70  moderado   \n",
       "1                       20                120                  73   intenso   \n",
       "2                       15                121                  66   intenso   \n",
       "3                       19                115                  68    reposo   \n",
       "4                       14                107                  75    reposo   \n",
       "\n",
       "   pasos estado_animo  \n",
       "0    106        feliz  \n",
       "1    117        feliz  \n",
       "2     50        feliz  \n",
       "3    195        feliz  \n",
       "4    109      cansado  "
      ]
     },
     "execution_count": 49,
     "metadata": {},
     "output_type": "execute_result"
    }
   ],
   "source": [
    "# Ver las primeras filas\n",
    "df.head()"
   ]
  },
  {
   "cell_type": "markdown",
   "id": "0e7d5240",
   "metadata": {},
   "source": [
    "## 3. Eliminar duplicados"
   ]
  },
  {
   "cell_type": "markdown",
   "id": "86ac4afc",
   "metadata": {},
   "source": [
    "Primero visualizamos si hay valores nulos"
   ]
  },
  {
   "cell_type": "markdown",
   "id": "92b35a9b",
   "metadata": {},
   "source": [
    "Eliminamos los posibles valores duplicados que se hayan podido generar"
   ]
  },
  {
   "cell_type": "code",
   "execution_count": 50,
   "id": "4871ecc5",
   "metadata": {},
   "outputs": [],
   "source": [
    "df.drop_duplicates(inplace=True)"
   ]
  },
  {
   "cell_type": "markdown",
   "id": "7c8c8efa",
   "metadata": {},
   "source": [
    "## 4. Eliminar valores nulos"
   ]
  },
  {
   "cell_type": "markdown",
   "id": "91ffa4e9",
   "metadata": {},
   "source": [
    "Para visualizar cuántos nulos hay antes de eliminarlos"
   ]
  },
  {
   "cell_type": "code",
   "execution_count": 51,
   "id": "62297301",
   "metadata": {},
   "outputs": [
    {
     "data": {
      "text/plain": [
       "paciente_id                0\n",
       "timestamp                  0\n",
       "ritmo_cardiaco             0\n",
       "spo2                       0\n",
       "temperatura                0\n",
       "frecuencia_respiratoria    0\n",
       "presion_sistolica          0\n",
       "presion_diastolica         0\n",
       "actividad                  0\n",
       "pasos                      0\n",
       "estado_animo               0\n",
       "dtype: int64"
      ]
     },
     "execution_count": 51,
     "metadata": {},
     "output_type": "execute_result"
    }
   ],
   "source": [
    "df.isnull().sum() "
   ]
  },
  {
   "cell_type": "markdown",
   "id": "d4bb5335",
   "metadata": {},
   "source": [
    "Borramos los valores nulos que se han generado en caso de haberlos"
   ]
  },
  {
   "cell_type": "code",
   "execution_count": 52,
   "id": "b0eebf22",
   "metadata": {},
   "outputs": [],
   "source": [
    "df.dropna(inplace=True)"
   ]
  },
  {
   "cell_type": "markdown",
   "id": "a80bb598",
   "metadata": {},
   "source": [
    "## 5. Convertir la columna de fecha a tipo datetime"
   ]
  },
  {
   "cell_type": "code",
   "execution_count": 53,
   "id": "6c3c9cba",
   "metadata": {},
   "outputs": [],
   "source": [
    "df[\"timestamp\"] = pd.to_datetime(df[\"timestamp\"])"
   ]
  },
  {
   "cell_type": "markdown",
   "id": "c719e880",
   "metadata": {},
   "source": [
    "## 6. Asegurar tipos numéricos en columnas clave"
   ]
  },
  {
   "cell_type": "code",
   "execution_count": 54,
   "id": "caeff41b",
   "metadata": {},
   "outputs": [],
   "source": [
    "numerical_fields = [\n",
    "    \"ritmo_cardiaco\", \"spo2\", \"temperatura\", \"frecuencia_respiratoria\",\n",
    "    \"presion_sistolica\", \"presion_diastolica\", \"pasos\"\n",
    "]\n",
    "\n",
    "df[numerical_fields] = df[numerical_fields].apply(pd.to_numeric, errors='coerce')"
   ]
  },
  {
   "cell_type": "markdown",
   "id": "ece2704d",
   "metadata": {},
   "source": [
    "## 7. Filtrar valores extremos (outliers)"
   ]
  },
  {
   "cell_type": "code",
   "execution_count": 55,
   "id": "782e25ea",
   "metadata": {},
   "outputs": [],
   "source": [
    "df = df[df[\"ritmo_cardiaco\"].between(20, 250)]\n",
    "df = df[df[\"spo2\"].between(50, 150)]\n",
    "df = df[df[\"temperatura\"].between(20, 50)]\n",
    "df = df[df[\"frecuencia_respiratoria\"].between(2, 45)]\n",
    "df = df[df[\"presion_sistolica\"].between(50, 220)]\n",
    "df = df[df[\"presion_diastolica\"].between(30, 140)]\n",
    "df = df[df[\"pasos\"] >= 0]"
   ]
  },
  {
   "cell_type": "markdown",
   "id": "90fdf9f3",
   "metadata": {},
   "source": [
    "## 8. Guardar el DataFrame limpio en un nuevo archivo CSV"
   ]
  },
  {
   "cell_type": "code",
   "execution_count": 56,
   "id": "a26918f5",
   "metadata": {},
   "outputs": [],
   "source": [
    "df.to_csv(os.path.join(DATA_DIR, \"datos_salud_limpios.csv\"), index=False)"
   ]
  }
 ],
 "metadata": {
  "kernelspec": {
   "display_name": "base",
   "language": "python",
   "name": "python3"
  },
  "language_info": {
   "codemirror_mode": {
    "name": "ipython",
    "version": 3
   },
   "file_extension": ".py",
   "mimetype": "text/x-python",
   "name": "python",
   "nbconvert_exporter": "python",
   "pygments_lexer": "ipython3",
   "version": "3.12.3"
  }
 },
 "nbformat": 4,
 "nbformat_minor": 5
}
